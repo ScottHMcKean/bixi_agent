{
 "cells": [
  {
   "cell_type": "markdown",
   "metadata": {
    "application/vnd.databricks.v1+cell": {
     "cellMetadata": {},
     "inputWidgets": {},
     "nuid": "c34de1f1-1a06-4205-9172-cb79714d1b34",
     "showTitle": false,
     "tableResultSettingsMap": {},
     "title": ""
    }
   },
   "source": [
    "# Geospatial Functions"
   ]
  },
  {
   "cell_type": "code",
   "execution_count": 0,
   "metadata": {
    "application/vnd.databricks.v1+cell": {
     "cellMetadata": {
      "byteLimit": 2048000,
      "implicitDf": true,
      "rowLimit": 10000
     },
     "inputWidgets": {},
     "nuid": "cbe6de8a-c43d-43b4-815c-cf70df4f54be",
     "showTitle": false,
     "tableResultSettingsMap": {},
     "title": ""
    }
   },
   "outputs": [],
   "source": [
    "%sql\n",
    "CREATE OR REPLACE FUNCTION workspace.default.stations_within_distance(lat DOUBLE, long DOUBLE, dist DOUBLE)\n",
    "RETURNS TABLE (\n",
    "  code STRING,\n",
    "  name STRING,\n",
    "  latitude FLOAT,\n",
    "  longitude FLOAT,\n",
    "  is_public INT\n",
    ")\n",
    "RETURN\n",
    "SELECT *\n",
    "FROM workspace.default.stations\n",
    "WHERE st_dwithin(\n",
    "  st_transform(st_geomfromtext(CONCAT('POINT(', longitude, ' ', latitude, ')'), 4326), 32188),\n",
    "  st_transform(st_geomfromtext(CONCAT('POINT(', long, ' ', lat, ')'), 4326), 32188),\n",
    "  dist\n",
    ")\n",
    "LIMIT 10;"
   ]
  },
  {
   "cell_type": "code",
   "execution_count": 0,
   "metadata": {
    "application/vnd.databricks.v1+cell": {
     "cellMetadata": {
      "byteLimit": 2048000,
      "implicitDf": true,
      "rowLimit": 10000
     },
     "inputWidgets": {},
     "nuid": "240304eb-4b4f-40b6-99ca-869c268c6fb6",
     "showTitle": false,
     "tableResultSettingsMap": {},
     "title": ""
    }
   },
   "outputs": [],
   "source": [
    "%sql\n",
    "SELECT * FROM workspace.default.stations_within_distance(45.5, -73.5, 10000) LIMIT 10"
   ]
  }
 ],
 "metadata": {
  "application/vnd.databricks.v1+notebook": {
   "computePreferences": null,
   "dashboards": [],
   "environmentMetadata": {
    "base_environment": "",
    "environment_version": "4"
   },
   "inputWidgetPreferences": null,
   "language": "python",
   "notebookMetadata": {
    "mostRecentlyExecutedCommandWithImplicitDF": {
     "commandId": 4730270091890599,
     "dataframes": [
      "_sqldf"
     ]
    },
    "pythonIndentUnit": 4
   },
   "notebookName": "05_geospatial",
   "widgets": {}
  },
  "language_info": {
   "name": "python"
  }
 },
 "nbformat": 4,
 "nbformat_minor": 0
}
